{
 "cells": [
  {
   "cell_type": "markdown",
   "id": "a7815ec0",
   "metadata": {},
   "source": [
    "# Analysis of Used Car Sales\n",
    "### S364 Final Project\n",
    "In the zip file, you should find a project instruction file in PDF format, a data file in csv format, and this jupyter notebook to serve as a starting point. The libraries have been imported for you in the first cell. Headers of difference sections have been provided as well. Your exploration might not follow the exact order of the headers and that's OK. The headers are meant to ensure that you don't forget anything significant.\n",
    "\n",
    "When you submit the project, make sure you submit the notebook after it is fully executed with all the output. There should not be any execution errors in your output. After that, download a copy of the html file and submit it also."
   ]
  },
  {
   "cell_type": "code",
   "execution_count": 1,
   "id": "ee77ec8b",
   "metadata": {},
   "outputs": [
    {
     "data": {
      "text/html": [
       "<style>.container { width:100% !important; }</style>"
      ],
      "text/plain": [
       "<IPython.core.display.HTML object>"
      ]
     },
     "metadata": {},
     "output_type": "display_data"
    }
   ],
   "source": [
    "%matplotlib inline\n",
    "import datetime\n",
    "from datetime import date\n",
    "import numpy as np\n",
    "import pandas as pd\n",
    "import matplotlib.pyplot as plt\n",
    "import seaborn as sns\n",
    "pd.options.display.float_format = '{:.2f}'.format\n",
    "from IPython.core.display import display, HTML\n",
    "display(HTML(\"<style>.container { width:100% !important; }</style>\"))"
   ]
  },
  {
   "cell_type": "markdown",
   "id": "cde90804",
   "metadata": {},
   "source": [
    "## Load Data and Initial Data Exploration"
   ]
  },
  {
   "cell_type": "code",
   "execution_count": 2,
   "id": "6adc25f0",
   "metadata": {},
   "outputs": [],
   "source": [
    "df = pd.read_csv(\"vehicles.csv\")"
   ]
  },
  {
   "cell_type": "code",
   "execution_count": 3,
   "id": "e383f19f",
   "metadata": {},
   "outputs": [
    {
     "name": "stdout",
     "output_type": "stream",
     "text": [
      "number of columns 26\n",
      "number of rows 426880\n"
     ]
    }
   ],
   "source": [
    "## Get number of rows and columns\n",
    "count_row = df.shape[0]  \n",
    "count_col = df.shape[1]  \n",
    "\n",
    "print(\"number of columns\", count_col)\n",
    "print(\"number of rows\", count_row)"
   ]
  },
  {
   "cell_type": "code",
   "execution_count": 4,
   "id": "5aedb087",
   "metadata": {},
   "outputs": [
    {
     "name": "stdout",
     "output_type": "stream",
     "text": [
      "<class 'pandas.core.frame.DataFrame'>\n",
      "RangeIndex: 426880 entries, 0 to 426879\n",
      "Data columns (total 26 columns):\n",
      " #   Column        Non-Null Count   Dtype  \n",
      "---  ------        --------------   -----  \n",
      " 0   id            426880 non-null  int64  \n",
      " 1   url           426880 non-null  object \n",
      " 2   region        426880 non-null  object \n",
      " 3   region_url    426880 non-null  object \n",
      " 4   price         426880 non-null  int64  \n",
      " 5   year          425675 non-null  float64\n",
      " 6   manufacturer  409234 non-null  object \n",
      " 7   model         421603 non-null  object \n",
      " 8   condition     252776 non-null  object \n",
      " 9   cylinders     249202 non-null  object \n",
      " 10  fuel          423867 non-null  object \n",
      " 11  odometer      422480 non-null  float64\n",
      " 12  title_status  418638 non-null  object \n",
      " 13  transmission  424324 non-null  object \n",
      " 14  VIN           265838 non-null  object \n",
      " 15  drive         296313 non-null  object \n",
      " 16  size          120519 non-null  object \n",
      " 17  type          334022 non-null  object \n",
      " 18  paint_color   296677 non-null  object \n",
      " 19  image_url     426812 non-null  object \n",
      " 20  description   426810 non-null  object \n",
      " 21  county        0 non-null       float64\n",
      " 22  state         426880 non-null  object \n",
      " 23  lat           420331 non-null  float64\n",
      " 24  long          420331 non-null  float64\n",
      " 25  posting_date  426812 non-null  object \n",
      "dtypes: float64(5), int64(2), object(19)\n",
      "memory usage: 84.7+ MB\n"
     ]
    }
   ],
   "source": [
    "## get basic information on each colunm\n",
    "df.info()"
   ]
  },
  {
   "cell_type": "code",
   "execution_count": 6,
   "id": "25770072",
   "metadata": {},
   "outputs": [
    {
     "data": {
      "text/plain": [
       "id                   0\n",
       "url                  0\n",
       "region               0\n",
       "region_url           0\n",
       "price                0\n",
       "year              1205\n",
       "manufacturer     17646\n",
       "model             5277\n",
       "condition       174104\n",
       "cylinders       177678\n",
       "fuel              3013\n",
       "odometer          4400\n",
       "title_status      8242\n",
       "transmission      2556\n",
       "VIN             161042\n",
       "drive           130567\n",
       "size            306361\n",
       "type             92858\n",
       "paint_color     130203\n",
       "image_url           68\n",
       "description         70\n",
       "county          426880\n",
       "state                0\n",
       "lat               6549\n",
       "long              6549\n",
       "posting_date        68\n",
       "dtype: int64"
      ]
     },
     "execution_count": 6,
     "metadata": {},
     "output_type": "execute_result"
    }
   ],
   "source": [
    "## get number of missing values in different col\n",
    "df.isnull().sum() "
   ]
  },
  {
   "cell_type": "code",
   "execution_count": 5,
   "id": "b53620e8",
   "metadata": {},
   "outputs": [
    {
     "data": {
      "text/html": [
       "<div>\n",
       "<style scoped>\n",
       "    .dataframe tbody tr th:only-of-type {\n",
       "        vertical-align: middle;\n",
       "    }\n",
       "\n",
       "    .dataframe tbody tr th {\n",
       "        vertical-align: top;\n",
       "    }\n",
       "\n",
       "    .dataframe thead th {\n",
       "        text-align: right;\n",
       "    }\n",
       "</style>\n",
       "<table border=\"1\" class=\"dataframe\">\n",
       "  <thead>\n",
       "    <tr style=\"text-align: right;\">\n",
       "      <th></th>\n",
       "      <th>id</th>\n",
       "      <th>price</th>\n",
       "      <th>year</th>\n",
       "      <th>odometer</th>\n",
       "      <th>county</th>\n",
       "      <th>lat</th>\n",
       "      <th>long</th>\n",
       "    </tr>\n",
       "  </thead>\n",
       "  <tbody>\n",
       "    <tr>\n",
       "      <th>count</th>\n",
       "      <td>426880.00</td>\n",
       "      <td>426880.00</td>\n",
       "      <td>425675.00</td>\n",
       "      <td>422480.00</td>\n",
       "      <td>0.00</td>\n",
       "      <td>420331.00</td>\n",
       "      <td>420331.00</td>\n",
       "    </tr>\n",
       "    <tr>\n",
       "      <th>mean</th>\n",
       "      <td>7311486634.22</td>\n",
       "      <td>75199.03</td>\n",
       "      <td>2011.24</td>\n",
       "      <td>98043.33</td>\n",
       "      <td>NaN</td>\n",
       "      <td>38.49</td>\n",
       "      <td>-94.75</td>\n",
       "    </tr>\n",
       "    <tr>\n",
       "      <th>std</th>\n",
       "      <td>4473170.41</td>\n",
       "      <td>12182282.17</td>\n",
       "      <td>9.45</td>\n",
       "      <td>213881.50</td>\n",
       "      <td>NaN</td>\n",
       "      <td>5.84</td>\n",
       "      <td>18.37</td>\n",
       "    </tr>\n",
       "    <tr>\n",
       "      <th>min</th>\n",
       "      <td>7207408119.00</td>\n",
       "      <td>0.00</td>\n",
       "      <td>1900.00</td>\n",
       "      <td>0.00</td>\n",
       "      <td>NaN</td>\n",
       "      <td>-84.12</td>\n",
       "      <td>-159.83</td>\n",
       "    </tr>\n",
       "    <tr>\n",
       "      <th>25%</th>\n",
       "      <td>7308143339.25</td>\n",
       "      <td>5900.00</td>\n",
       "      <td>2008.00</td>\n",
       "      <td>37704.00</td>\n",
       "      <td>NaN</td>\n",
       "      <td>34.60</td>\n",
       "      <td>-111.94</td>\n",
       "    </tr>\n",
       "    <tr>\n",
       "      <th>50%</th>\n",
       "      <td>7312620821.00</td>\n",
       "      <td>13950.00</td>\n",
       "      <td>2013.00</td>\n",
       "      <td>85548.00</td>\n",
       "      <td>NaN</td>\n",
       "      <td>39.15</td>\n",
       "      <td>-88.43</td>\n",
       "    </tr>\n",
       "    <tr>\n",
       "      <th>75%</th>\n",
       "      <td>7315253543.50</td>\n",
       "      <td>26485.75</td>\n",
       "      <td>2017.00</td>\n",
       "      <td>133542.50</td>\n",
       "      <td>NaN</td>\n",
       "      <td>42.40</td>\n",
       "      <td>-80.83</td>\n",
       "    </tr>\n",
       "    <tr>\n",
       "      <th>max</th>\n",
       "      <td>7317101084.00</td>\n",
       "      <td>3736928711.00</td>\n",
       "      <td>2022.00</td>\n",
       "      <td>10000000.00</td>\n",
       "      <td>NaN</td>\n",
       "      <td>82.39</td>\n",
       "      <td>173.89</td>\n",
       "    </tr>\n",
       "  </tbody>\n",
       "</table>\n",
       "</div>"
      ],
      "text/plain": [
       "                 id         price      year    odometer  county       lat  \\\n",
       "count     426880.00     426880.00 425675.00   422480.00    0.00 420331.00   \n",
       "mean  7311486634.22      75199.03   2011.24    98043.33     NaN     38.49   \n",
       "std      4473170.41   12182282.17      9.45   213881.50     NaN      5.84   \n",
       "min   7207408119.00          0.00   1900.00        0.00     NaN    -84.12   \n",
       "25%   7308143339.25       5900.00   2008.00    37704.00     NaN     34.60   \n",
       "50%   7312620821.00      13950.00   2013.00    85548.00     NaN     39.15   \n",
       "75%   7315253543.50      26485.75   2017.00   133542.50     NaN     42.40   \n",
       "max   7317101084.00 3736928711.00   2022.00 10000000.00     NaN     82.39   \n",
       "\n",
       "           long  \n",
       "count 420331.00  \n",
       "mean     -94.75  \n",
       "std       18.37  \n",
       "min     -159.83  \n",
       "25%     -111.94  \n",
       "50%      -88.43  \n",
       "75%      -80.83  \n",
       "max      173.89  "
      ]
     },
     "execution_count": 5,
     "metadata": {},
     "output_type": "execute_result"
    }
   ],
   "source": [
    "# Explore Numerical Columns\n",
    "df.describe()"
   ]
  },
  {
   "cell_type": "code",
   "execution_count": 8,
   "id": "1a8bbf07",
   "metadata": {},
   "outputs": [
    {
     "data": {
      "text/plain": [
       "array([nan, 'white', 'blue', 'red', 'black', 'silver', 'grey', 'brown',\n",
       "       'yellow', 'orange', 'green', 'custom', 'purple'], dtype=object)"
      ]
     },
     "execution_count": 8,
     "metadata": {},
     "output_type": "execute_result"
    }
   ],
   "source": [
    "# Explore Categorical Columns\n",
    "df['year'] ##convert to datetime, exclude year > 2021, , replace missing value with \n",
    "df['fuel'] ##drop  \n",
    "df['model']\n",
    "df['condition'].unique()\n",
    "df['cylinders']\n",
    "df['title_status']\n",
    "df['transmission'].unique()\n",
    "df.duplicated(subset=['VIN']).sum() ## VIN should be unique, remove duplicates \n",
    "df['drive']\n",
    "df['size']\n",
    "df['type']\n",
    "df['paint_color'].unique()"
   ]
  },
  {
   "cell_type": "markdown",
   "id": "6fe4e3a3",
   "metadata": {},
   "source": [
    "## Clean the Data"
   ]
  },
  {
   "cell_type": "code",
   "execution_count": 9,
   "id": "d11b953f",
   "metadata": {},
   "outputs": [],
   "source": [
    "## clean unnesseary information: drop url and county\n",
    "df.drop(['county', 'url', 'region_url', 'image_url'], axis = 1, inplace = True)"
   ]
  },
  {
   "cell_type": "code",
   "execution_count": 10,
   "id": "29c6da80",
   "metadata": {},
   "outputs": [],
   "source": [
    "# drop rows have 10 or more NA value(will drop 68 rows)\n",
    "df.dropna(thresh = 10, inplace = True)"
   ]
  },
  {
   "cell_type": "code",
   "execution_count": 11,
   "id": "4fa815b3",
   "metadata": {},
   "outputs": [],
   "source": [
    "# drop rows price = 0 (will drop 32889 rows)\n",
    "df.drop(df.loc[df['price'] == 0].index, inplace = True)"
   ]
  },
  {
   "cell_type": "code",
   "execution_count": 12,
   "id": "6a3677a6",
   "metadata": {},
   "outputs": [],
   "source": [
    "# VIN, id\n",
    "# drop duplicate values (Observe: no duplicate values for these two columns)\n",
    "df.drop_duplicates(subset = ['id', 'VIN'], inplace = True)\n",
    "df[\"VIN\"].fillna(\"unknown\", inplace = True) "
   ]
  },
  {
   "cell_type": "code",
   "execution_count": 13,
   "id": "5b5b435e",
   "metadata": {},
   "outputs": [],
   "source": [
    "##condition: \n",
    "## set odmeter threshold to determine the condition \n",
    "df['condition_updated']=pd.cut(df['odometer'], bins=[-1,3000,15000 ,40000, 85000, 150000, df['odometer'].max()+1 ], \n",
    "                   labels=['new', 'like new', 'excellent', 'good','fair' ,'salvage'])"
   ]
  },
  {
   "cell_type": "code",
   "execution_count": 14,
   "id": "8ba290f6",
   "metadata": {},
   "outputs": [],
   "source": [
    "# type\n",
    "# drop nan\n",
    "df.drop(df.loc[df['type'].isna()].index, inplace =True)"
   ]
  },
  {
   "cell_type": "code",
   "execution_count": 15,
   "id": "0269ddc0",
   "metadata": {},
   "outputs": [],
   "source": [
    "# size\n",
    "# drop entire col\n",
    "df.drop(['size'], axis = 1, inplace = True)"
   ]
  },
  {
   "cell_type": "code",
   "execution_count": 16,
   "id": "346eff22",
   "metadata": {},
   "outputs": [],
   "source": [
    "## year: convert datetime \n",
    "## drop year > 2022\n",
    "## calculate car age \n",
    "today=date.today()\n",
    "df['age']=today.year-df['year']\n",
    "df.drop(df[df['age'] == -1].index, inplace = True)\n",
    "df.drop(df[df['year'] >= 2022].index, inplace = True)\n",
    "df[\"year\"].fillna(\"unknown\", inplace = True) \n",
    "#comment: unnecessary to convert year to datetime. The current years are integers, sufficient enough to do calculations."
   ]
  },
  {
   "cell_type": "code",
   "execution_count": 17,
   "id": "2adcb2dd",
   "metadata": {},
   "outputs": [],
   "source": [
    "## odometer \n",
    "## fill nan\n",
    "df[\"odometer\"].fillna(\"unknown\", inplace = True) \n",
    "df['odometer'] = pd.to_numeric(df['odometer'],errors = 'coerce')"
   ]
  },
  {
   "cell_type": "code",
   "execution_count": 18,
   "id": "869d10bb",
   "metadata": {},
   "outputs": [],
   "source": [
    "## manufacturer \n",
    "## fill nan \n",
    "df[\"manufacturer\"].fillna(\"unknown\", inplace = True) "
   ]
  },
  {
   "cell_type": "code",
   "execution_count": 19,
   "id": "0c26d3f2",
   "metadata": {},
   "outputs": [],
   "source": [
    "## model \n",
    "## fill nan\n",
    "df[\"model\"].fillna(\"unknown\", inplace = True) "
   ]
  },
  {
   "cell_type": "code",
   "execution_count": 20,
   "id": "d7901544",
   "metadata": {},
   "outputs": [],
   "source": [
    "## cylinders \n",
    "## fill nan\n",
    "df[\"cylinders\"].fillna(\"other\", inplace = True) "
   ]
  },
  {
   "cell_type": "code",
   "execution_count": 21,
   "id": "7d7d00c2",
   "metadata": {},
   "outputs": [],
   "source": [
    "## fuel \n",
    "## fill nan\n",
    "df[\"fuel\"].fillna(\"other\", inplace = True) "
   ]
  },
  {
   "cell_type": "code",
   "execution_count": 22,
   "id": "802e499e",
   "metadata": {},
   "outputs": [],
   "source": [
    "## title_status \n",
    "## fill nan\n",
    "df[\"title_status\"].fillna(\"other\", inplace = True) "
   ]
  },
  {
   "cell_type": "code",
   "execution_count": 23,
   "id": "ed167166",
   "metadata": {},
   "outputs": [],
   "source": [
    "## transmission \n",
    "## fill nan\n",
    "df[\"transmission\"].fillna(\"other\", inplace = True) "
   ]
  },
  {
   "cell_type": "code",
   "execution_count": 24,
   "id": "c508381d",
   "metadata": {},
   "outputs": [],
   "source": [
    "## drive \n",
    "## fill nan\n",
    "df[\"drive\"].fillna(\"other\", inplace = True) "
   ]
  },
  {
   "cell_type": "code",
   "execution_count": 25,
   "id": "15eb7035",
   "metadata": {},
   "outputs": [],
   "source": [
    "## paint_color\n",
    "df[\"paint_color\"].fillna(\"unknown\", inplace = True) "
   ]
  },
  {
   "cell_type": "code",
   "execution_count": 26,
   "id": "99de3337",
   "metadata": {},
   "outputs": [],
   "source": [
    "## posting date\n",
    "## convert to date time and extract year, month day \n",
    "df['posting_date'] = pd.to_datetime(df['posting_date'].str[:-5], format='%Y-%m-%dT%H:%M:%S')"
   ]
  },
  {
   "cell_type": "code",
   "execution_count": 27,
   "id": "4e8d44e7",
   "metadata": {},
   "outputs": [
    {
     "data": {
      "text/plain": [
       "id                       0\n",
       "region                   0\n",
       "price                    0\n",
       "year                     0\n",
       "manufacturer             0\n",
       "model                    0\n",
       "condition            96746\n",
       "cylinders                0\n",
       "fuel                     0\n",
       "odometer              1806\n",
       "title_status             0\n",
       "transmission             0\n",
       "VIN                      0\n",
       "drive                    0\n",
       "type                     0\n",
       "paint_color              0\n",
       "description              1\n",
       "state                    0\n",
       "lat                   3183\n",
       "long                  3183\n",
       "posting_date             0\n",
       "condition_updated     1806\n",
       "age                    999\n",
       "dtype: int64"
      ]
     },
     "execution_count": 27,
     "metadata": {},
     "output_type": "execute_result"
    }
   ],
   "source": [
    "df.isnull().sum()"
   ]
  },
  {
   "cell_type": "code",
   "execution_count": 28,
   "id": "4e8a2428",
   "metadata": {},
   "outputs": [],
   "source": [
    "df.to_csv(\"vehicles_clean.csv\")"
   ]
  },
  {
   "cell_type": "markdown",
   "id": "f4cb3365",
   "metadata": {},
   "source": [
    "## Describe the Data"
   ]
  },
  {
   "cell_type": "code",
   "execution_count": 29,
   "id": "a1e97e67",
   "metadata": {},
   "outputs": [],
   "source": [
    "df_clean = pd.read_csv('vehicles_clean.csv')"
   ]
  },
  {
   "cell_type": "code",
   "execution_count": 30,
   "id": "688373aa",
   "metadata": {},
   "outputs": [
    {
     "name": "stdout",
     "output_type": "stream",
     "text": [
      "<class 'pandas.core.frame.DataFrame'>\n",
      "RangeIndex: 308004 entries, 0 to 308003\n",
      "Data columns (total 24 columns):\n",
      " #   Column             Non-Null Count   Dtype  \n",
      "---  ------             --------------   -----  \n",
      " 0   Unnamed: 0         308004 non-null  int64  \n",
      " 1   id                 308004 non-null  int64  \n",
      " 2   region             308004 non-null  object \n",
      " 3   price              308004 non-null  int64  \n",
      " 4   year               308004 non-null  object \n",
      " 5   manufacturer       308004 non-null  object \n",
      " 6   model              308004 non-null  object \n",
      " 7   condition          211258 non-null  object \n",
      " 8   cylinders          308004 non-null  object \n",
      " 9   fuel               308004 non-null  object \n",
      " 10  odometer           306198 non-null  float64\n",
      " 11  title_status       308004 non-null  object \n",
      " 12  transmission       308004 non-null  object \n",
      " 13  VIN                308004 non-null  object \n",
      " 14  drive              308004 non-null  object \n",
      " 15  type               308004 non-null  object \n",
      " 16  paint_color        308004 non-null  object \n",
      " 17  description        308003 non-null  object \n",
      " 18  state              308004 non-null  object \n",
      " 19  lat                304821 non-null  float64\n",
      " 20  long               304821 non-null  float64\n",
      " 21  posting_date       308004 non-null  object \n",
      " 22  condition_updated  306198 non-null  object \n",
      " 23  age                307005 non-null  float64\n",
      "dtypes: float64(4), int64(3), object(17)\n",
      "memory usage: 56.4+ MB\n"
     ]
    }
   ],
   "source": [
    "df_clean.info()"
   ]
  },
  {
   "cell_type": "code",
   "execution_count": 31,
   "id": "924872d2",
   "metadata": {},
   "outputs": [
    {
     "data": {
      "text/plain": [
       "51"
      ]
     },
     "execution_count": 31,
     "metadata": {},
     "output_type": "execute_result"
    }
   ],
   "source": [
    "# States covered in the dataset and number of ads by states \n",
    "df_clean['state'].nunique()"
   ]
  },
  {
   "cell_type": "code",
   "execution_count": 32,
   "id": "e3ff2ad0",
   "metadata": {},
   "outputs": [
    {
     "data": {
      "text/plain": [
       "Text(0.5, 0.98, 'Top 10 Number of Ads by States ')"
      ]
     },
     "execution_count": 32,
     "metadata": {},
     "output_type": "execute_result"
    },
    {
     "data": {
      "image/png": "[encoded data removed]",
      "text/plain": [
       "<Figure size 432x288 with 1 Axes>"
      ]
     },
     "metadata": {
      "needs_background": "light"
     },
     "output_type": "display_data"
    }
   ],
   "source": [
    "df_clean['state'].value_counts().head(10).plot(kind='bar', color = 'r', alpha = 0.6, edgecolor='k')\n",
    "plt.xlabel('States', fontsize=12)\n",
    "plt.ylabel('Number of ads', fontsize=12)\n",
    "plt.suptitle('Top 10 Number of Ads by States ')"
   ]
  },
  {
   "cell_type": "code",
   "execution_count": null,
   "id": "f680017d",
   "metadata": {},
   "outputs": [],
   "source": [
    "# Manufacturers covered in the dataset and number of ads by Manufacturers"
   ]
  },
  {
   "cell_type": "code",
   "execution_count": 36,
   "id": "55fa3ed3",
   "metadata": {},
   "outputs": [
    {
     "data": {
      "text/plain": [
       "43"
      ]
     },
     "execution_count": 36,
     "metadata": {},
     "output_type": "execute_result"
    }
   ],
   "source": [
    "df_clean['manufacturer'].nunique()\n",
    "## 43 - 1(unknown) = 42 manufacturers"
   ]
  },
  {
   "cell_type": "code",
   "execution_count": 35,
   "id": "1e8167ac",
   "metadata": {},
   "outputs": [
    {
     "data": {
      "text/plain": [
       "Text(0.5, 0.98, 'Top 10 Number of Ads by Manufacturer ')"
      ]
     },
     "execution_count": 35,
     "metadata": {},
     "output_type": "execute_result"
    },
    {
     "data": {
      "image/png": "[encoded data removed]",
      "text/plain": [
       "<Figure size 432x288 with 1 Axes>"
      ]
     },
     "metadata": {
      "needs_background": "light"
     },
     "output_type": "display_data"
    }
   ],
   "source": [
    "df_clean['manufacturer'].value_counts().head(10).plot(kind='bar',color = 'r', alpha = 0.6, edgecolor='k')\n",
    "plt.xlabel('Manufacturer', fontsize=12)\n",
    "plt.ylabel('Number of ads', fontsize=12)\n",
    "plt.suptitle('Top 10 Number of Ads by Manufacturer ')"
   ]
  },
  {
   "cell_type": "code",
   "execution_count": 37,
   "id": "96261c32",
   "metadata": {},
   "outputs": [
    {
     "data": {
      "image/png": "[encoded data removed]",
      "text/plain": [
       "<Figure size 360x360 with 1 Axes>"
      ]
     },
     "metadata": {
      "needs_background": "light"
     },
     "output_type": "display_data"
    }
   ],
   "source": [
    "## Conditions of cars and number of cars in each condition (Ray)\n",
    "df_clean['condition_updated'].value_counts()\n",
    "sns.catplot(x=\"condition_updated\", kind=\"count\", data=df_clean).set(title='Car Condition Distribution')\n",
    "plt.show()"
   ]
  },
  {
   "cell_type": "code",
   "execution_count": null,
   "id": "e52c6481",
   "metadata": {},
   "outputs": [],
   "source": [
    "# Car median price by state\n",
    "price_by_state = df_clean.groupby('state')['price'].median().sort_values(ascending=False)\n",
    "\n",
    "plt.figure(figsize=(20, 6))\n",
    "plt.bar(x = price_by_state.index, height = price_by_state, color = 'r', alpha = 0.6, edgecolor='k')\n",
    "plt.show()"
   ]
  },
  {
   "cell_type": "code",
   "execution_count": null,
   "id": "bd8adef4",
   "metadata": {},
   "outputs": [],
   "source": [
    "# Car meadian price by color\n",
    "price_by_color = df_clean.groupby('paint_color')['price'].median().sort_values(ascending=False)\n",
    "plt.figure(figsize=(20, 6))\n",
    "plt.bar(x = price_by_color.index, height = price_by_color, color = 'r', alpha = 0.6, edgecolor='k')\n",
    "plt.show()"
   ]
  },
  {
   "cell_type": "code",
   "execution_count": null,
   "id": "293b8ed9",
   "metadata": {},
   "outputs": [],
   "source": [
    "# Car meadian price by type\n",
    "price_by_type = df_clean.groupby('type')['price'].median().sort_values(ascending=False)\n",
    "plt.figure(figsize=(20, 6))\n",
    "plt.bar(x = price_by_type.index, height = price_by_type, color = 'r', alpha = 0.6, edgecolor='k')\n",
    "plt.show()"
   ]
  },
  {
   "cell_type": "code",
   "execution_count": null,
   "id": "e0ed44b8",
   "metadata": {},
   "outputs": [],
   "source": [
    "# Car meadian price by manufacturer\n",
    "price_by_manufacturer = df_clean.groupby('manufacturer')['price'].median().sort_values(ascending=False)\n",
    "plt.figure(figsize=(25, 10))\n",
    "plt.bar(x = price_by_manufacturer.index, height = price_by_manufacturer, color = 'r', alpha = 0.6, edgecolor='k')\n",
    "plt.xticks(rotation=45)\n",
    "plt.show()"
   ]
  },
  {
   "cell_type": "code",
   "execution_count": null,
   "id": "194fc371",
   "metadata": {},
   "outputs": [],
   "source": [
    "# Car meadian price by condition\n",
    "price_by_carcondition = df_clean.groupby('condition_updated')['price'].median().sort_values(ascending=False)\n",
    "plt.figure(figsize=(8, 6))\n",
    "plt.bar(x = price_by_carcondition.index, height = price_by_carcondition, color = 'r', alpha = 0.6, edgecolor='k')\n",
    "plt.xticks(rotation=35)\n",
    "plt.show()"
   ]
  },
  {
   "cell_type": "code",
   "execution_count": null,
   "id": "b621daa8",
   "metadata": {},
   "outputs": [],
   "source": [
    "# Car average age by state\n",
    "age_by_state = df_clean.groupby('state')['age'].mean().sort_values(ascending=False)\n",
    "plt.figure(figsize=(25, 6))\n",
    "plt.bar(x = age_by_state.index, height = age_by_state, color = 'r', alpha = 0.6, edgecolor='k')\n",
    "plt.xticks(rotation=35)\n",
    "plt.ylim(0, 12)\n",
    "plt.show()"
   ]
  },
  {
   "cell_type": "code",
   "execution_count": null,
   "id": "dad73452",
   "metadata": {},
   "outputs": [],
   "source": [
    "# Car average age by manufacturer\n",
    "age_by_manufacturer = df_clean.groupby('manufacturer')['age'].mean().sort_values(ascending=False)\n",
    "plt.figure(figsize=(25, 10))\n",
    "plt.bar(x = age_by_manufacturer.index, height = age_by_manufacturer, color = 'r', alpha = 0.6, edgecolor='k')\n",
    "plt.xticks(rotation=45)\n",
    "plt.show()"
   ]
  },
  {
   "cell_type": "code",
   "execution_count": null,
   "id": "d15ff841",
   "metadata": {},
   "outputs": [],
   "source": [
    "# Car average odometers by manufacturer\n",
    "odometer_by_manufacturer = df_clean.groupby('manufacturer')['odometer'].mean().sort_values(ascending=False)\n",
    "plt.figure(figsize=(25, 10))\n",
    "plt.bar(x = odometer_by_manufacturer.index, height = odometer_by_manufacturer, color = 'r', alpha = 0.6, edgecolor='k')\n",
    "plt.xticks(rotation=45)\n",
    "plt.show()"
   ]
  },
  {
   "cell_type": "code",
   "execution_count": null,
   "id": "9cbb6c19",
   "metadata": {},
   "outputs": [],
   "source": [
    "# Car average odometers by type\n",
    "odometer_by_type = df_clean.groupby('type')['odometer'].mean().sort_values(ascending=False)\n",
    "plt.figure(figsize=(10, 8))\n",
    "plt.bar(x = odometer_by_type.index, height = odometer_by_type, color = 'r', alpha = 0.6, edgecolor='k')\n",
    "plt.xticks(rotation=45)\n",
    "plt.ylim(0, 180000)\n",
    "plt.show()"
   ]
  },
  {
   "cell_type": "code",
   "execution_count": null,
   "id": "c154e83e",
   "metadata": {},
   "outputs": [],
   "source": [
    "# Car average odometers by condition\n",
    "odometer_by_condition = df_clean.groupby('condition_updated')['odometer'].mean().sort_values(ascending=False)\n",
    "plt.figure(figsize=(6, 6))\n",
    "plt.bar(x = odometer_by_condition.index, height = odometer_by_condition, color = 'r', alpha = 0.6, edgecolor='k')\n",
    "plt.xticks(rotation=45)\n",
    "plt.show()"
   ]
  },
  {
   "cell_type": "code",
   "execution_count": null,
   "id": "7ecb1e5c",
   "metadata": {},
   "outputs": [],
   "source": [
    "# fuel type\n",
    "plt.figure(figsize=(20, 6))\n",
    "sns.countplot(y='fuel', data=df_clean)\n",
    "plt.show()"
   ]
  },
  {
   "cell_type": "code",
   "execution_count": null,
   "id": "ee0db188",
   "metadata": {},
   "outputs": [],
   "source": [
    "# type\n",
    "plt.figure(figsize=(20, 6))\n",
    "sns.countplot(y='type', data=df_clean)\n",
    "plt.show()"
   ]
  },
  {
   "cell_type": "code",
   "execution_count": null,
   "id": "5f3afc9d",
   "metadata": {},
   "outputs": [],
   "source": [
    "# color\n",
    "plt.figure(figsize=(20, 6))\n",
    "sns.countplot(y='paint_color', data=df_clean)\n",
    "plt.show()"
   ]
  },
  {
   "cell_type": "code",
   "execution_count": null,
   "id": "ab67e0ac",
   "metadata": {},
   "outputs": [],
   "source": [
    "# drive\n",
    "plt.figure(figsize=(20, 6))\n",
    "sns.countplot(y='drive', data=df_clean)\n",
    "plt.show()"
   ]
  },
  {
   "cell_type": "code",
   "execution_count": null,
   "id": "796c4274",
   "metadata": {},
   "outputs": [],
   "source": [
    "# cylinder\n",
    "plt.figure(figsize=(20, 6))\n",
    "sns.countplot(y='paint_color', data=df_clean)\n",
    "plt.show()"
   ]
  },
  {
   "cell_type": "code",
   "execution_count": null,
   "id": "a55b5ab4",
   "metadata": {},
   "outputs": [],
   "source": [
    "##Describe the price, odometer and age of the cars in general"
   ]
  },
  {
   "cell_type": "code",
   "execution_count": null,
   "id": "1f6b944b",
   "metadata": {},
   "outputs": [],
   "source": [
    "df_clean['age'].describe()\n",
    "df_clean['price'].describe()\n",
    "df_clean['odometer'].describe()"
   ]
  },
  {
   "cell_type": "code",
   "execution_count": null,
   "id": "1c5432a4",
   "metadata": {},
   "outputs": [],
   "source": [
    "#Price\n",
    "sns.boxplot(data=df_clean,  y=\"price\")\n",
    "plt.ylim(0,150000)"
   ]
  },
  {
   "cell_type": "code",
   "execution_count": null,
   "id": "f0a52440",
   "metadata": {},
   "outputs": [],
   "source": [
    "#Age\n",
    "sns.boxplot(data=df_clean,  y=\"age\")\n",
    "plt.ylim(0,100)"
   ]
  },
  {
   "cell_type": "code",
   "execution_count": null,
   "id": "02609e7f",
   "metadata": {},
   "outputs": [],
   "source": [
    "#Odometer\n",
    "sns.boxplot(data=df_clean,  y=\"odometer\")\n",
    "plt.ylim(0,200000)"
   ]
  },
  {
   "cell_type": "code",
   "execution_count": null,
   "id": "fddb8136",
   "metadata": {},
   "outputs": [],
   "source": [
    "#Price VS Age\n",
    "sns.scatterplot(x=\"age\", y='price', alpha=0.01,s=20, data=df_clean).set(title='Age Distribution')\n",
    "plt.ylim(0,150000)\n",
    "plt.show()"
   ]
  },
  {
   "cell_type": "code",
   "execution_count": null,
   "id": "11ecc175",
   "metadata": {},
   "outputs": [],
   "source": [
    "##Price VS Condition\n",
    "plt.figure(figsize=(25,10))\n",
    "sns.boxplot(data=df_clean, x=\"condition_updated\", y=\"price\").set(title='Price VS Condition')\n",
    "plt.ylim(0,100000)"
   ]
  },
  {
   "cell_type": "markdown",
   "id": "ffcd0e0c",
   "metadata": {},
   "source": [
    "## Generate Data Insights"
   ]
  },
  {
   "cell_type": "code",
   "execution_count": null,
   "id": "ac4d0da2",
   "metadata": {},
   "outputs": [],
   "source": [
    "## How does the landform affect people’s choice of car? "
   ]
  },
  {
   "cell_type": "code",
   "execution_count": null,
   "id": "f3a3c499",
   "metadata": {},
   "outputs": [],
   "source": [
    "## Snow States Average snow > 30 inches (20 states)\n",
    "## vt me nh co ak mi ny ma wy wi mn ut ri ct sd mt nd id pa ia"
   ]
  },
  {
   "cell_type": "code",
   "execution_count": 38,
   "id": "69a1b14a",
   "metadata": {},
   "outputs": [],
   "source": [
    "snow_states = ['vt', 'me', 'nh', 'co', 'ak', 'mi', 'ny', 'ma', 'wy', 'wi', 'mn', 'ut', 'ri', 'ct', 'sd', 'mt', 'nd', 'id', 'pa', 'ia']\n",
    "snow = df_clean.loc[df_clean['state'].isin(snow_states)]\n",
    "not_snow = df_clean.loc[~df_clean['state'].isin(snow_states)]"
   ]
  },
  {
   "cell_type": "code",
   "execution_count": 39,
   "id": "e8470fad",
   "metadata": {},
   "outputs": [
    {
     "data": {
      "text/plain": [
       "ford         15684\n",
       "chevrolet    13224\n",
       "toyota        7510\n",
       "jeep          5076\n",
       "honda         4786\n",
       "Name: manufacturer, dtype: int64"
      ]
     },
     "execution_count": 39,
     "metadata": {},
     "output_type": "execute_result"
    }
   ],
   "source": [
    "snow['manufacturer'].value_counts().head(5)"
   ]
  },
  {
   "cell_type": "code",
   "execution_count": 40,
   "id": "2b6331ec",
   "metadata": {},
   "outputs": [
    {
     "data": {
      "text/plain": [
       "SUV            22452\n",
       "sedan          22363\n",
       "pickup         11433\n",
       "truck           9745\n",
       "other           5407\n",
       "coupe           4778\n",
       "hatchback       4610\n",
       "wagon           3447\n",
       "van             2144\n",
       "convertible     1884\n",
       "mini-van        1450\n",
       "offroad          146\n",
       "bus              141\n",
       "Name: type, dtype: int64"
      ]
     },
     "metadata": {},
     "output_type": "display_data"
    },
    {
     "name": "stdout",
     "output_type": "stream",
     "text": [
      "==========================\n"
     ]
    },
    {
     "data": {
      "text/plain": [
       "sedan          23994\n",
       "SUV            19697\n",
       "pickup         12417\n",
       "truck           8500\n",
       "other           6018\n",
       "coupe           5668\n",
       "hatchback       4700\n",
       "wagon           2737\n",
       "van             2412\n",
       "convertible     2278\n",
       "mini-van        1252\n",
       "offroad          190\n",
       "bus              137\n",
       "Name: type, dtype: int64"
      ]
     },
     "execution_count": 40,
     "metadata": {},
     "output_type": "execute_result"
    }
   ],
   "source": [
    "snow_sample = snow.sample(90000)\n",
    "not_snow_sample = not_snow.sample(90000)\n",
    "display(snow_sample[\"type\"].value_counts())\n",
    "print(\"==========================\")\n",
    "not_snow_sample[\"type\"].value_counts()"
   ]
  },
  {
   "cell_type": "code",
   "execution_count": 78,
   "id": "d3ff18b4",
   "metadata": {},
   "outputs": [
    {
     "data": {
      "text/plain": [
       "ford               14216\n",
       "chevrolet          12010\n",
       "toyota              6866\n",
       "jeep                4606\n",
       "honda               4342\n",
       "gmc                 3989\n",
       "ram                 3926\n",
       "nissan              3723\n",
       "unknown             3244\n",
       "subaru              3163\n",
       "bmw                 2946\n",
       "dodge               2767\n",
       "hyundai             2070\n",
       "volkswagen          2049\n",
       "mercedes-benz       1897\n",
       "audi                1848\n",
       "cadillac            1587\n",
       "kia                 1587\n",
       "lexus               1507\n",
       "buick               1467\n",
       "chrysler            1349\n",
       "acura               1231\n",
       "mazda               1136\n",
       "lincoln              933\n",
       "infiniti             909\n",
       "volvo                789\n",
       "mitsubishi           687\n",
       "pontiac              524\n",
       "mini                 496\n",
       "jaguar               436\n",
       "rover                371\n",
       "mercury              289\n",
       "saturn               216\n",
       "alfa-romeo           202\n",
       "porsche              199\n",
       "tesla                190\n",
       "fiat                 173\n",
       "harley-davidson       33\n",
       "ferrari               13\n",
       "datsun                 7\n",
       "land rover             6\n",
       "aston-martin           1\n",
       "Name: manufacturer, dtype: int64"
      ]
     },
     "metadata": {},
     "output_type": "display_data"
    },
    {
     "name": "stdout",
     "output_type": "stream",
     "text": [
      "==========================\n"
     ]
    },
    {
     "data": {
      "text/plain": [
       "ford               13897\n",
       "chevrolet          10647\n",
       "toyota              7816\n",
       "honda               4700\n",
       "nissan              4188\n",
       "ram                 3678\n",
       "jeep                3674\n",
       "bmw                 3608\n",
       "gmc                 3157\n",
       "unknown             3021\n",
       "mercedes-benz       2889\n",
       "dodge               2701\n",
       "hyundai             2269\n",
       "volkswagen          2244\n",
       "lexus               2197\n",
       "audi                1897\n",
       "kia                 1867\n",
       "acura               1615\n",
       "cadillac            1572\n",
       "subaru              1537\n",
       "mazda               1257\n",
       "infiniti            1240\n",
       "chrysler            1199\n",
       "buick               1071\n",
       "lincoln              994\n",
       "volvo                782\n",
       "mitsubishi           756\n",
       "mini                 622\n",
       "rover                518\n",
       "jaguar               514\n",
       "pontiac              365\n",
       "porsche              318\n",
       "tesla                253\n",
       "mercury              234\n",
       "alfa-romeo           232\n",
       "saturn               206\n",
       "fiat                 193\n",
       "ferrari               25\n",
       "harley-davidson       20\n",
       "datsun                16\n",
       "aston-martin           9\n",
       "morgan                 1\n",
       "land rover             1\n",
       "Name: manufacturer, dtype: int64"
      ]
     },
     "execution_count": 78,
     "metadata": {},
     "output_type": "execute_result"
    }
   ],
   "source": [
    "snow_sample = snow.sample(90000)\n",
    "not_snow_sample = not_snow.sample(90000)\n",
    "display(snow_sample[\"manufacturer\"].value_counts())\n",
    "print(\"==========================\")\n",
    "not_snow_sample[\"manufacturer\"].value_counts()"
   ]
  },
  {
   "cell_type": "code",
   "execution_count": 79,
   "id": "165e5157",
   "metadata": {},
   "outputs": [
    {
     "data": {
      "text/plain": [
       "4wd      39414\n",
       "fwd      23440\n",
       "other    16428\n",
       "rwd      10718\n",
       "Name: drive, dtype: int64"
      ]
     },
     "metadata": {},
     "output_type": "display_data"
    },
    {
     "name": "stdout",
     "output_type": "stream",
     "text": [
      "==========================\n"
     ]
    },
    {
     "data": {
      "text/plain": [
       "fwd      27195\n",
       "4wd      26833\n",
       "other    19931\n",
       "rwd      16041\n",
       "Name: drive, dtype: int64"
      ]
     },
     "execution_count": 79,
     "metadata": {},
     "output_type": "execute_result"
    }
   ],
   "source": [
    "snow_sample = snow.sample(90000)\n",
    "not_snow_sample = not_snow.sample(90000)\n",
    "display(snow_sample[\"drive\"].value_counts())\n",
    "print(\"==========================\")\n",
    "not_snow_sample[\"drive\"].value_counts()"
   ]
  },
  {
   "cell_type": "code",
   "execution_count": 80,
   "id": "6200d5ca",
   "metadata": {},
   "outputs": [
    {
     "data": {
      "text/plain": [
       "white      17172\n",
       "black      16145\n",
       "unknown    15439\n",
       "silver     10597\n",
       "blue        8628\n",
       "red         8347\n",
       "grey        6792\n",
       "green       2098\n",
       "brown       1855\n",
       "custom      1685\n",
       "orange       537\n",
       "yellow       510\n",
       "purple       195\n",
       "Name: paint_color, dtype: int64"
      ]
     },
     "metadata": {},
     "output_type": "display_data"
    },
    {
     "name": "stdout",
     "output_type": "stream",
     "text": [
      "==========================\n"
     ]
    },
    {
     "data": {
      "text/plain": [
       "white      19845\n",
       "unknown    17133\n",
       "black      15536\n",
       "silver     10743\n",
       "blue        7449\n",
       "red         7149\n",
       "grey        5878\n",
       "custom      1819\n",
       "green       1730\n",
       "brown       1607\n",
       "yellow       511\n",
       "orange       444\n",
       "purple       156\n",
       "Name: paint_color, dtype: int64"
      ]
     },
     "execution_count": 80,
     "metadata": {},
     "output_type": "execute_result"
    }
   ],
   "source": [
    "snow_sample = snow.sample(90000)\n",
    "not_snow_sample = not_snow.sample(90000)\n",
    "display(snow_sample[\"paint_color\"].value_counts())\n",
    "print(\"==========================\")\n",
    "not_snow_sample[\"paint_color\"].value_counts()"
   ]
  },
  {
   "cell_type": "code",
   "execution_count": 38,
   "id": "5e51646b",
   "metadata": {},
   "outputs": [
    {
     "data": {
      "text/plain": [
       "15760.96984717059"
      ]
     },
     "execution_count": 38,
     "metadata": {},
     "output_type": "execute_result"
    }
   ],
   "source": [
    "## average price for a volve wagon \n",
    "def get_avg_prices():\n",
    "    car_price = snow.groupby(['manufacturer','type','drive'])['price'].mean()\n",
    "    return car_price['ford']['SUV']['4wd']\n",
    "get_avg_prices()"
   ]
  },
  {
   "cell_type": "code",
   "execution_count": 86,
   "id": "f20f2ee1",
   "metadata": {},
   "outputs": [
    {
     "data": {
      "text/plain": [
       "9.429234183497083"
      ]
     },
     "metadata": {},
     "output_type": "display_data"
    },
    {
     "name": "stdout",
     "output_type": "stream",
     "text": [
      "==========================\n"
     ]
    },
    {
     "data": {
      "text/plain": [
       "9.123540292387235"
      ]
     },
     "execution_count": 86,
     "metadata": {},
     "output_type": "execute_result"
    }
   ],
   "source": [
    "snow_sample = snow.sample(90000)\n",
    "not_snow_sample = not_snow.sample(90000)\n",
    "display(snow_sample[\"age\"].mean())\n",
    "print(\"==========================\")\n",
    "not_snow_sample[\"age\"].mean()"
   ]
  },
  {
   "cell_type": "code",
   "execution_count": 42,
   "id": "c0f72b51",
   "metadata": {},
   "outputs": [],
   "source": [
    "# Mountain VS Plain :\n",
    "mountain_states = ['co','nm','mo','ar','wy','mt','ut','id','az','wa','or','nv','ca', 'wv', 'pa', 'tn',\n",
    "'vt', 'nh', 'me']\n",
    "mountain = df_clean.loc[df_clean['state'].isin(mountain_states)]\n",
    "plain = df_clean.loc[~df_clean['state'].isin(mountain_states)]"
   ]
  },
  {
   "cell_type": "code",
   "execution_count": 43,
   "id": "1b9b9257",
   "metadata": {},
   "outputs": [],
   "source": [
    "# Sampling:\n",
    "mountain_sample = mountain.sample(120000)\n",
    "plain_sample = plain.sample(120000)"
   ]
  },
  {
   "cell_type": "code",
   "execution_count": 44,
   "id": "4a6cccc1",
   "metadata": {},
   "outputs": [
    {
     "data": {
      "text/plain": [
       "sedan          30663\n",
       "SUV            27743\n",
       "pickup         15833\n",
       "truck          14324\n",
       "other           6962\n",
       "hatchback       6448\n",
       "coupe           6432\n",
       "wagon           4216\n",
       "van             2975\n",
       "convertible     2689\n",
       "mini-van        1292\n",
       "offroad          290\n",
       "bus              133\n",
       "Name: type, dtype: int64"
      ]
     },
     "metadata": {},
     "output_type": "display_data"
    },
    {
     "name": "stdout",
     "output_type": "stream",
     "text": [
      "==========================\n"
     ]
    },
    {
     "data": {
      "text/plain": [
       "sedan          31649\n",
       "SUV            27362\n",
       "pickup         16287\n",
       "truck          10388\n",
       "other           8219\n",
       "coupe           7589\n",
       "hatchback       6057\n",
       "wagon           3716\n",
       "van             3178\n",
       "convertible     3053\n",
       "mini-van        2096\n",
       "bus              217\n",
       "offroad          189\n",
       "Name: type, dtype: int64"
      ]
     },
     "execution_count": 44,
     "metadata": {},
     "output_type": "execute_result"
    }
   ],
   "source": [
    "display(mountain_sample[\"type\"].value_counts())\n",
    "print(\"==========================\")\n",
    "plain_sample[\"type\"].value_counts()"
   ]
  },
  {
   "cell_type": "code",
   "execution_count": 45,
   "id": "c13c7c03",
   "metadata": {},
   "outputs": [
    {
     "data": {
      "image/png": "[encoded data removed]",
      "text/plain": [
       "<Figure size 360x360 with 1 Axes>"
      ]
     },
     "metadata": {
      "needs_background": "light"
     },
     "output_type": "display_data"
    }
   ],
   "source": [
    "# Plain State Chart\n",
    "sns.catplot(x=\"type\", kind=\"count\", data=plain_sample).set(title='Plain State Car Type Distribution')\n",
    "plt.xticks(rotation=35)\n",
    "plt.show()"
   ]
  },
  {
   "cell_type": "code",
   "execution_count": 46,
   "id": "9cab54f4",
   "metadata": {},
   "outputs": [
    {
     "data": {
      "image/png": "[encoded data removed]",
      "text/plain": [
       "<Figure size 360x360 with 1 Axes>"
      ]
     },
     "metadata": {
      "needs_background": "light"
     },
     "output_type": "display_data"
    }
   ],
   "source": [
    "# Mountain State Chart\n",
    "sns.catplot(x=\"type\", kind=\"count\", data=mountain_sample).set(title='Mountain State Car Type Distribution')\n",
    "plt.xticks(rotation=35)\n",
    "plt.show()"
   ]
  },
  {
   "cell_type": "code",
   "execution_count": 47,
   "id": "084fdbad",
   "metadata": {},
   "outputs": [
    {
     "data": {
      "text/plain": [
       "4wd      46074\n",
       "fwd      33190\n",
       "other    22981\n",
       "rwd      17755\n",
       "Name: drive, dtype: int64"
      ]
     },
     "metadata": {},
     "output_type": "display_data"
    },
    {
     "name": "stdout",
     "output_type": "stream",
     "text": [
      "==========================\n"
     ]
    },
    {
     "data": {
      "text/plain": [
       "ford               18334\n",
       "chevrolet          13647\n",
       "toyota             11584\n",
       "honda               6226\n",
       "ram                 6159\n",
       "nissan              5485\n",
       "jeep                5445\n",
       "gmc                 4667\n",
       "bmw                 4431\n",
       "unknown             3768\n",
       "subaru              3454\n",
       "mercedes-benz       3444\n",
       "dodge               3314\n",
       "hyundai             3091\n",
       "volkswagen          3028\n",
       "lexus               2674\n",
       "kia                 2427\n",
       "audi                2347\n",
       "cadillac            1779\n",
       "acura               1720\n",
       "mazda               1681\n",
       "chrysler            1393\n",
       "infiniti            1332\n",
       "buick               1254\n",
       "volvo               1162\n",
       "mitsubishi           940\n",
       "lincoln              869\n",
       "mini                 829\n",
       "rover                712\n",
       "jaguar               528\n",
       "porsche              458\n",
       "pontiac              429\n",
       "fiat                 295\n",
       "tesla                258\n",
       "alfa-romeo           257\n",
       "mercury              246\n",
       "saturn               234\n",
       "ferrari               40\n",
       "harley-davidson       35\n",
       "datsun                15\n",
       "aston-martin           7\n",
       "land rover             2\n",
       "Name: manufacturer, dtype: int64"
      ]
     },
     "metadata": {},
     "output_type": "display_data"
    },
    {
     "name": "stdout",
     "output_type": "stream",
     "text": [
      "==========================\n"
     ]
    },
    {
     "data": {
      "text/plain": [
       "ford               18811\n",
       "chevrolet          15565\n",
       "toyota              8914\n",
       "honda               6119\n",
       "nissan              5183\n",
       "jeep                5176\n",
       "bmw                 4733\n",
       "gmc                 4598\n",
       "unknown             4349\n",
       "ram                 4303\n",
       "dodge               3765\n",
       "mercedes-benz       3378\n",
       "hyundai             2904\n",
       "volkswagen          2769\n",
       "audi                2590\n",
       "lexus               2541\n",
       "kia                 2338\n",
       "cadillac            2279\n",
       "acura               2237\n",
       "subaru              2226\n",
       "chrysler            1835\n",
       "buick               1803\n",
       "infiniti            1637\n",
       "mazda               1634\n",
       "lincoln             1563\n",
       "mitsubishi          1040\n",
       "volvo                951\n",
       "mini                 756\n",
       "jaguar               721\n",
       "pontiac              646\n",
       "rover                600\n",
       "mercury              394\n",
       "alfa-romeo           365\n",
       "porsche              352\n",
       "tesla                324\n",
       "saturn               303\n",
       "fiat                 225\n",
       "harley-davidson       36\n",
       "ferrari               20\n",
       "datsun                10\n",
       "land rover             5\n",
       "aston-martin           2\n",
       "Name: manufacturer, dtype: int64"
      ]
     },
     "execution_count": 47,
     "metadata": {},
     "output_type": "execute_result"
    }
   ],
   "source": [
    "display(mountain_sample[\"drive\"].value_counts())\n",
    "print(\"==========================\")\n",
    "plain_sample[\"drive\"].value_counts()\n",
    "\n",
    "display(mountain_sample[\"manufacturer\"].value_counts())\n",
    "print(\"==========================\")\n",
    "plain_sample[\"manufacturer\"].value_counts()"
   ]
  },
  {
   "cell_type": "code",
   "execution_count": 48,
   "id": "33cb3514",
   "metadata": {},
   "outputs": [
    {
     "data": {
      "text/plain": [
       "sedan          6483\n",
       "SUV            4230\n",
       "pickup         3039\n",
       "truck          1838\n",
       "coupe          1523\n",
       "other          1105\n",
       "hatchback       969\n",
       "convertible     855\n",
       "wagon           759\n",
       "van             730\n",
       "mini-van        346\n",
       "bus              38\n",
       "offroad          37\n",
       "Name: type, dtype: int64"
      ]
     },
     "execution_count": 48,
     "metadata": {},
     "output_type": "execute_result"
    }
   ],
   "source": [
    "# Sample State Comparison:\n",
    "fl=['fl']\n",
    "FL=df_clean.loc[df_clean['state'].isin(fl)]\n",
    "co=['co']\n",
    "CO=df_clean.loc[df_clean['state'].isin(co)]\n",
    "FL['type'].value_counts()"
   ]
  },
  {
   "cell_type": "code",
   "execution_count": 49,
   "id": "79a3f750",
   "metadata": {},
   "outputs": [
    {
     "data": {
      "image/png": "[encoded data removed]",
      "text/plain": [
       "<Figure size 576x288 with 1 Axes>"
      ]
     },
     "metadata": {
      "needs_background": "light"
     },
     "output_type": "display_data"
    }
   ],
   "source": [
    "# FL Chart:\n",
    "plt.figure(figsize=(8, 4))\n",
    "plt.hist(FL['type'], alpha=0.6, edgecolor='w',color='maroon')\n",
    "plt.xticks(rotation=35)\n",
    "plt.show()"
   ]
  },
  {
   "cell_type": "code",
   "execution_count": 50,
   "id": "04a7472a",
   "metadata": {},
   "outputs": [
    {
     "data": {
      "text/plain": [
       "SUV            2333\n",
       "sedan          1952\n",
       "pickup         1266\n",
       "truck           697\n",
       "other           516\n",
       "hatchback       404\n",
       "wagon           390\n",
       "coupe           365\n",
       "van             196\n",
       "convertible     106\n",
       "mini-van         75\n",
       "offroad          26\n",
       "bus              16\n",
       "Name: type, dtype: int64"
      ]
     },
     "execution_count": 50,
     "metadata": {},
     "output_type": "execute_result"
    }
   ],
   "source": [
    "CO['type'].value_counts()"
   ]
  },
  {
   "cell_type": "code",
   "execution_count": 51,
   "id": "dccee188",
   "metadata": {},
   "outputs": [
    {
     "data": {
      "image/png": "[encoded data removed]",
      "text/plain": [
       "<Figure size 504x288 with 1 Axes>"
      ]
     },
     "metadata": {
      "needs_background": "light"
     },
     "output_type": "display_data"
    }
   ],
   "source": [
    "# CO Chart:\n",
    "sns.catplot(x=\"type\", kind=\"count\", data=CO).set(title='Colorado Car Type Distribution')\n",
    "plt.xticks(rotation=35)\n",
    "plt.gcf().set_size_inches(7, 4)\n",
    "plt.show()"
   ]
  }
 ],
 "metadata": {
  "kernelspec": {
   "display_name": "Python 3",
   "language": "python",
   "name": "python3"
  },
  "language_info": {
   "codemirror_mode": {
    "name": "ipython",
    "version": 3
   },
   "file_extension": ".py",
   "mimetype": "text/x-python",
   "name": "python",
   "nbconvert_exporter": "python",
   "pygments_lexer": "ipython3",
   "version": "3.8.8"
  }
 },
 "nbformat": 4,
 "nbformat_minor": 5
}
